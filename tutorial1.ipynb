{
  "nbformat": 4,
  "nbformat_minor": 0,
  "metadata": {
    "colab": {
      "provenance": [],
      "mount_file_id": "1nI8qTDIGtXI3H7s3HCIW9w5n4km8Ncty",
      "authorship_tag": "ABX9TyO4Lv/kw8Ws9Tjx9g3dN3+B",
      "include_colab_link": true
    },
    "kernelspec": {
      "name": "python3",
      "display_name": "Python 3"
    },
    "language_info": {
      "name": "python"
    }
  },
  "cells": [
    {
      "cell_type": "markdown",
      "metadata": {
        "id": "view-in-github",
        "colab_type": "text"
      },
      "source": [
        "<a href=\"https://colab.research.google.com/github/ArijetSarkerm/keys/blob/master/tutorial1.ipynb\" target=\"_parent\"><img src=\"https://colab.research.google.com/assets/colab-badge.svg\" alt=\"Open In Colab\"/></a>"
      ]
    },
    {
      "cell_type": "markdown",
      "source": [
        "Welcome to Machine Learning"
      ],
      "metadata": {
        "id": "pcWlgdl3Q_62"
      }
    },
    {
      "cell_type": "markdown",
      "source": [
        "# **Welcome to Machine Learning**"
      ],
      "metadata": {
        "id": "r-MODzniypDN"
      }
    },
    {
      "cell_type": "markdown",
      "source": [
        "$a = \\frac{x}{y}$"
      ],
      "metadata": {
        "id": "14lQjeES0WiH"
      }
    },
    {
      "cell_type": "markdown",
      "source": [
        "[link text](https://)\n",
        "\n",
        "*   List item\n",
        "\n",
        "1.   List item\n",
        "\n",
        "> Add blockquote\n",
        "\n",
        "\n",
        "2.   List item\n",
        "\n",
        "\n",
        "*   List item\n",
        "\n"
      ],
      "metadata": {
        "id": "lv9hyFxQy-di"
      }
    }
  ]
}