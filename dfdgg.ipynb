{
  "nbformat": 4,
  "nbformat_minor": 0,
  "metadata": {
    "colab": {
      "provenance": [],
      "mount_file_id": "1OvOYiRXAmH42ws0Tu_NtOS1ADf1NrjXp",
      "authorship_tag": "ABX9TyOgoBYOELNXe+K0TQwjGc8R",
      "include_colab_link": true
    },
    "kernelspec": {
      "name": "python3",
      "display_name": "Python 3"
    },
    "language_info": {
      "name": "python"
    }
  },
  "cells": [
    {
      "cell_type": "markdown",
      "metadata": {
        "id": "view-in-github",
        "colab_type": "text"
      },
      "source": [
        "<a href=\"https://colab.research.google.com/github/ArijetSarkerm/keys/blob/master/dfdgg.ipynb\" target=\"_parent\"><img src=\"https://colab.research.google.com/assets/colab-badge.svg\" alt=\"Open In Colab\"/></a>"
      ]
    },
    {
      "cell_type": "markdown",
      "source": [
        "$b = \\frac{x}{y}$"
      ],
      "metadata": {
        "id": "dddHZ49OYHy5"
      }
    },
    {
      "cell_type": "code",
      "source": [],
      "metadata": {
        "id": "qQfZbyOSYban"
      },
      "execution_count": null,
      "outputs": []
    }
  ]
}